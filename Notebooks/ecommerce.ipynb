{
 "cells": [
  {
   "cell_type": "markdown",
   "id": "f1cf77d7",
   "metadata": {},
   "source": [
    "# UK Ecommerce Datasheet Cleaning and Analysis"
   ]
  },
  {
   "cell_type": "markdown",
   "id": "355cfad5",
   "metadata": {},
   "source": [
    "### Importing Python Libraries"
   ]
  },
  {
   "cell_type": "code",
   "execution_count": 16,
   "id": "d2c8a513",
   "metadata": {},
   "outputs": [],
   "source": [
    "import pandas as pd\n",
    "import seaborn as sns\n",
    "import matplotlib.pyplot as plt"
   ]
  },
  {
   "cell_type": "markdown",
   "id": "42883236",
   "metadata": {},
   "source": [
    "### Storing Data in Data Frame\n",
    "in this next code snippet I store the data in a data frame using pandas for data cleaning and manipulation. The data is located in the Data folder of the project file structure and I had to set the encoding to 'latin1' as otherwise it gave me an error I suspect this is because the data set is not in UTF encoding."
   ]
  },
  {
   "cell_type": "code",
   "execution_count": 17,
   "id": "cbb397ba",
   "metadata": {},
   "outputs": [],
   "source": [
    "df = pd.read_csv('../Data/ecommerce_data.csv', encoding='latin1')"
   ]
  },
  {
   "cell_type": "markdown",
   "id": "304c17d1",
   "metadata": {},
   "source": [
    "## Data Frame Basic Information And Cleaning"
   ]
  },
  {
   "cell_type": "code",
   "execution_count": 18,
   "id": "6ef6dbb2",
   "metadata": {},
   "outputs": [
    {
     "name": "stdout",
     "output_type": "stream",
     "text": [
      "Rows, Columns:  (541909, 8)\n"
     ]
    },
    {
     "data": {
      "text/html": [
       "<div>\n",
       "<style scoped>\n",
       "    .dataframe tbody tr th:only-of-type {\n",
       "        vertical-align: middle;\n",
       "    }\n",
       "\n",
       "    .dataframe tbody tr th {\n",
       "        vertical-align: top;\n",
       "    }\n",
       "\n",
       "    .dataframe thead th {\n",
       "        text-align: right;\n",
       "    }\n",
       "</style>\n",
       "<table border=\"1\" class=\"dataframe\">\n",
       "  <thead>\n",
       "    <tr style=\"text-align: right;\">\n",
       "      <th></th>\n",
       "      <th>InvoiceNo</th>\n",
       "      <th>StockCode</th>\n",
       "      <th>Description</th>\n",
       "      <th>Quantity</th>\n",
       "      <th>InvoiceDate</th>\n",
       "      <th>UnitPrice</th>\n",
       "      <th>CustomerID</th>\n",
       "      <th>Country</th>\n",
       "    </tr>\n",
       "  </thead>\n",
       "  <tbody>\n",
       "    <tr>\n",
       "      <th>0</th>\n",
       "      <td>536365</td>\n",
       "      <td>85123A</td>\n",
       "      <td>WHITE HANGING HEART T-LIGHT HOLDER</td>\n",
       "      <td>6</td>\n",
       "      <td>12/1/2010 8:26</td>\n",
       "      <td>2.55</td>\n",
       "      <td>17850.0</td>\n",
       "      <td>United Kingdom</td>\n",
       "    </tr>\n",
       "    <tr>\n",
       "      <th>1</th>\n",
       "      <td>536365</td>\n",
       "      <td>71053</td>\n",
       "      <td>WHITE METAL LANTERN</td>\n",
       "      <td>6</td>\n",
       "      <td>12/1/2010 8:26</td>\n",
       "      <td>3.39</td>\n",
       "      <td>17850.0</td>\n",
       "      <td>United Kingdom</td>\n",
       "    </tr>\n",
       "    <tr>\n",
       "      <th>2</th>\n",
       "      <td>536365</td>\n",
       "      <td>84406B</td>\n",
       "      <td>CREAM CUPID HEARTS COAT HANGER</td>\n",
       "      <td>8</td>\n",
       "      <td>12/1/2010 8:26</td>\n",
       "      <td>2.75</td>\n",
       "      <td>17850.0</td>\n",
       "      <td>United Kingdom</td>\n",
       "    </tr>\n",
       "    <tr>\n",
       "      <th>3</th>\n",
       "      <td>536365</td>\n",
       "      <td>84029G</td>\n",
       "      <td>KNITTED UNION FLAG HOT WATER BOTTLE</td>\n",
       "      <td>6</td>\n",
       "      <td>12/1/2010 8:26</td>\n",
       "      <td>3.39</td>\n",
       "      <td>17850.0</td>\n",
       "      <td>United Kingdom</td>\n",
       "    </tr>\n",
       "    <tr>\n",
       "      <th>4</th>\n",
       "      <td>536365</td>\n",
       "      <td>84029E</td>\n",
       "      <td>RED WOOLLY HOTTIE WHITE HEART.</td>\n",
       "      <td>6</td>\n",
       "      <td>12/1/2010 8:26</td>\n",
       "      <td>3.39</td>\n",
       "      <td>17850.0</td>\n",
       "      <td>United Kingdom</td>\n",
       "    </tr>\n",
       "  </tbody>\n",
       "</table>\n",
       "</div>"
      ],
      "text/plain": [
       "  InvoiceNo StockCode                          Description  Quantity  \\\n",
       "0    536365    85123A   WHITE HANGING HEART T-LIGHT HOLDER         6   \n",
       "1    536365     71053                  WHITE METAL LANTERN         6   \n",
       "2    536365    84406B       CREAM CUPID HEARTS COAT HANGER         8   \n",
       "3    536365    84029G  KNITTED UNION FLAG HOT WATER BOTTLE         6   \n",
       "4    536365    84029E       RED WOOLLY HOTTIE WHITE HEART.         6   \n",
       "\n",
       "      InvoiceDate  UnitPrice  CustomerID         Country  \n",
       "0  12/1/2010 8:26       2.55     17850.0  United Kingdom  \n",
       "1  12/1/2010 8:26       3.39     17850.0  United Kingdom  \n",
       "2  12/1/2010 8:26       2.75     17850.0  United Kingdom  \n",
       "3  12/1/2010 8:26       3.39     17850.0  United Kingdom  \n",
       "4  12/1/2010 8:26       3.39     17850.0  United Kingdom  "
      ]
     },
     "execution_count": 18,
     "metadata": {},
     "output_type": "execute_result"
    }
   ],
   "source": [
    "print(\"Rows, Columns: \", df.shape)\n",
    "df.head()"
   ]
  },
  {
   "cell_type": "code",
   "execution_count": 19,
   "id": "c9087794",
   "metadata": {},
   "outputs": [
    {
     "name": "stdout",
     "output_type": "stream",
     "text": [
      "<class 'pandas.core.frame.DataFrame'>\n",
      "RangeIndex: 541909 entries, 0 to 541908\n",
      "Data columns (total 8 columns):\n",
      " #   Column       Non-Null Count   Dtype  \n",
      "---  ------       --------------   -----  \n",
      " 0   InvoiceNo    541909 non-null  object \n",
      " 1   StockCode    541909 non-null  object \n",
      " 2   Description  540455 non-null  object \n",
      " 3   Quantity     541909 non-null  int64  \n",
      " 4   InvoiceDate  541909 non-null  object \n",
      " 5   UnitPrice    541909 non-null  float64\n",
      " 6   CustomerID   406829 non-null  float64\n",
      " 7   Country      541909 non-null  object \n",
      "dtypes: float64(2), int64(1), object(5)\n",
      "memory usage: 33.1+ MB\n",
      "None\n",
      "            Quantity      UnitPrice     CustomerID\n",
      "count  541909.000000  541909.000000  406829.000000\n",
      "mean        9.552250       4.611114   15287.690570\n",
      "std       218.081158      96.759853    1713.600303\n",
      "min    -80995.000000  -11062.060000   12346.000000\n",
      "25%         1.000000       1.250000   13953.000000\n",
      "50%         3.000000       2.080000   15152.000000\n",
      "75%        10.000000       4.130000   16791.000000\n",
      "max     80995.000000   38970.000000   18287.000000\n"
     ]
    }
   ],
   "source": [
    "print(df.info())\n",
    "print(df.describe())"
   ]
  },
  {
   "cell_type": "markdown",
   "id": "07998dd2",
   "metadata": {},
   "source": [
    "This shows how many rows and columns in the Data Set. Also by using the head function I can get a look at the columns and rows as well as what data type each column represents. I can see that columns \"InvoiceNo\", \"StockCode\", and \"Description\" are all objects. In the next block of code I will type cast them to their respective Data Types as object is incorrect for all of them."
   ]
  },
  {
   "cell_type": "code",
   "execution_count": 20,
   "id": "d4f2384f",
   "metadata": {},
   "outputs": [
    {
     "name": "stdout",
     "output_type": "stream",
     "text": [
      "<class 'pandas.core.frame.DataFrame'>\n",
      "RangeIndex: 541909 entries, 0 to 541908\n",
      "Data columns (total 8 columns):\n",
      " #   Column       Non-Null Count   Dtype         \n",
      "---  ------       --------------   -----         \n",
      " 0   InvoiceNo    532618 non-null  float64       \n",
      " 1   StockCode    541909 non-null  category      \n",
      " 2   Description  540455 non-null  string        \n",
      " 3   Quantity     541909 non-null  int64         \n",
      " 4   InvoiceDate  541909 non-null  datetime64[ns]\n",
      " 5   UnitPrice    541909 non-null  float64       \n",
      " 6   CustomerID   406829 non-null  float64       \n",
      " 7   Country      541909 non-null  category      \n",
      "dtypes: category(2), datetime64[ns](1), float64(3), int64(1), string(1)\n",
      "memory usage: 26.5 MB\n",
      "None\n"
     ]
    }
   ],
   "source": [
    "df['Country'] = df['Country'].astype('category')\n",
    "df['InvoiceNo'] = pd.to_numeric(df['InvoiceNo'], errors='coerce')\n",
    "df['StockCode'] = df['StockCode'].astype('category')\n",
    "df['Description'] = df['Description'].astype('string')\n",
    "df['InvoiceDate'] = pd.to_datetime(df['InvoiceDate'])\n",
    "print(df.info())"
   ]
  },
  {
   "cell_type": "markdown",
   "id": "38fd781c",
   "metadata": {},
   "source": [
    "We now do not have any columns with the data type \"object\", The \"Country\" column was type casted into categories, \"InvoiceNo\" casted to be numeric, \"StockCode\" as a category type, \"Description\" as a string, and \"InvoiceDate\" to date and time. This will help us analyze the data as if they all stayed categories certain functions would not have worked and resulted in errors."
   ]
  },
  {
   "cell_type": "code",
   "execution_count": 21,
   "id": "8c1c7a32",
   "metadata": {},
   "outputs": [
    {
     "name": "stdout",
     "output_type": "stream",
     "text": [
      "InvoiceNo        9291\n",
      "StockCode           0\n",
      "Description      1454\n",
      "Quantity            0\n",
      "InvoiceDate         0\n",
      "UnitPrice           0\n",
      "CustomerID     135080\n",
      "Country             0\n",
      "dtype: int64\n"
     ]
    }
   ],
   "source": [
    "print(df.isnull().sum())"
   ]
  },
  {
   "cell_type": "markdown",
   "id": "170f29e0",
   "metadata": {},
   "source": [
    "This section shows how many null values we have for each coulmn. Looking at the result I could see that there are lots of entries in Description and CustomerID in which there are null values, therefore they should be cleaned as they are not complete rows."
   ]
  },
  {
   "cell_type": "code",
   "execution_count": 22,
   "id": "8cc5be07",
   "metadata": {},
   "outputs": [
    {
     "name": "stdout",
     "output_type": "stream",
     "text": [
      "InvoiceNo      0\n",
      "StockCode      0\n",
      "Description    0\n",
      "Quantity       0\n",
      "InvoiceDate    0\n",
      "UnitPrice      0\n",
      "CustomerID     0\n",
      "Country        0\n",
      "dtype: int64\n"
     ]
    }
   ],
   "source": [
    "df=df.dropna(subset=['InvoiceNo', 'Description', 'CustomerID'])\n",
    "df=df.drop_duplicates()\n",
    "print(df.isnull().sum())"
   ]
  },
  {
   "cell_type": "markdown",
   "id": "dfa1f252",
   "metadata": {},
   "source": [
    "Based off of the previous section I call to drop the NA values in the columns 'Description', 'CustomerID', and 'InvoiceNo'. After performing this I dropped all duplicate rows inside off the data frame. This is simple data cleaning that is necessary in order to analyze the data."
   ]
  },
  {
   "cell_type": "code",
   "execution_count": 23,
   "id": "17a37d37",
   "metadata": {},
   "outputs": [
    {
     "data": {
      "text/html": [
       "<div>\n",
       "<style scoped>\n",
       "    .dataframe tbody tr th:only-of-type {\n",
       "        vertical-align: middle;\n",
       "    }\n",
       "\n",
       "    .dataframe tbody tr th {\n",
       "        vertical-align: top;\n",
       "    }\n",
       "\n",
       "    .dataframe thead th {\n",
       "        text-align: right;\n",
       "    }\n",
       "</style>\n",
       "<table border=\"1\" class=\"dataframe\">\n",
       "  <thead>\n",
       "    <tr style=\"text-align: right;\">\n",
       "      <th></th>\n",
       "      <th>InvoiceNo</th>\n",
       "      <th>StockCode</th>\n",
       "      <th>Description</th>\n",
       "      <th>Quantity</th>\n",
       "      <th>InvoiceDate</th>\n",
       "      <th>UnitPrice</th>\n",
       "      <th>CustomerID</th>\n",
       "      <th>Country</th>\n",
       "      <th>TotalPrice</th>\n",
       "    </tr>\n",
       "  </thead>\n",
       "  <tbody>\n",
       "    <tr>\n",
       "      <th>0</th>\n",
       "      <td>536365.0</td>\n",
       "      <td>85123A</td>\n",
       "      <td>WHITE HANGING HEART T-LIGHT HOLDER</td>\n",
       "      <td>6</td>\n",
       "      <td>2010-12-01 08:26:00</td>\n",
       "      <td>2.55</td>\n",
       "      <td>17850.0</td>\n",
       "      <td>United Kingdom</td>\n",
       "      <td>15.30</td>\n",
       "    </tr>\n",
       "    <tr>\n",
       "      <th>1</th>\n",
       "      <td>536365.0</td>\n",
       "      <td>71053</td>\n",
       "      <td>WHITE METAL LANTERN</td>\n",
       "      <td>6</td>\n",
       "      <td>2010-12-01 08:26:00</td>\n",
       "      <td>3.39</td>\n",
       "      <td>17850.0</td>\n",
       "      <td>United Kingdom</td>\n",
       "      <td>20.34</td>\n",
       "    </tr>\n",
       "    <tr>\n",
       "      <th>2</th>\n",
       "      <td>536365.0</td>\n",
       "      <td>84406B</td>\n",
       "      <td>CREAM CUPID HEARTS COAT HANGER</td>\n",
       "      <td>8</td>\n",
       "      <td>2010-12-01 08:26:00</td>\n",
       "      <td>2.75</td>\n",
       "      <td>17850.0</td>\n",
       "      <td>United Kingdom</td>\n",
       "      <td>22.00</td>\n",
       "    </tr>\n",
       "    <tr>\n",
       "      <th>3</th>\n",
       "      <td>536365.0</td>\n",
       "      <td>84029G</td>\n",
       "      <td>KNITTED UNION FLAG HOT WATER BOTTLE</td>\n",
       "      <td>6</td>\n",
       "      <td>2010-12-01 08:26:00</td>\n",
       "      <td>3.39</td>\n",
       "      <td>17850.0</td>\n",
       "      <td>United Kingdom</td>\n",
       "      <td>20.34</td>\n",
       "    </tr>\n",
       "    <tr>\n",
       "      <th>4</th>\n",
       "      <td>536365.0</td>\n",
       "      <td>84029E</td>\n",
       "      <td>RED WOOLLY HOTTIE WHITE HEART.</td>\n",
       "      <td>6</td>\n",
       "      <td>2010-12-01 08:26:00</td>\n",
       "      <td>3.39</td>\n",
       "      <td>17850.0</td>\n",
       "      <td>United Kingdom</td>\n",
       "      <td>20.34</td>\n",
       "    </tr>\n",
       "  </tbody>\n",
       "</table>\n",
       "</div>"
      ],
      "text/plain": [
       "   InvoiceNo StockCode                          Description  Quantity  \\\n",
       "0   536365.0    85123A   WHITE HANGING HEART T-LIGHT HOLDER         6   \n",
       "1   536365.0     71053                  WHITE METAL LANTERN         6   \n",
       "2   536365.0    84406B       CREAM CUPID HEARTS COAT HANGER         8   \n",
       "3   536365.0    84029G  KNITTED UNION FLAG HOT WATER BOTTLE         6   \n",
       "4   536365.0    84029E       RED WOOLLY HOTTIE WHITE HEART.         6   \n",
       "\n",
       "          InvoiceDate  UnitPrice  CustomerID         Country  TotalPrice  \n",
       "0 2010-12-01 08:26:00       2.55     17850.0  United Kingdom       15.30  \n",
       "1 2010-12-01 08:26:00       3.39     17850.0  United Kingdom       20.34  \n",
       "2 2010-12-01 08:26:00       2.75     17850.0  United Kingdom       22.00  \n",
       "3 2010-12-01 08:26:00       3.39     17850.0  United Kingdom       20.34  \n",
       "4 2010-12-01 08:26:00       3.39     17850.0  United Kingdom       20.34  "
      ]
     },
     "execution_count": 23,
     "metadata": {},
     "output_type": "execute_result"
    }
   ],
   "source": [
    "df = df[(df['Quantity'] > 0) & (df['UnitPrice'] > 0)]\n",
    "df['InvoiceDate'] = pd.to_datetime(df['InvoiceDate'])\n",
    "df['TotalPrice'] = df['Quantity'] * df['UnitPrice']\n",
    "df.head()"
   ]
  },
  {
   "cell_type": "markdown",
   "id": "55f3e261",
   "metadata": {},
   "source": [
    "This is the last prepartion step in my data cleaning section in which I filtered the data frame to only include rows where 'Quantity' is greater than 0. I also standardized the 'InvoiceDate' format with the 'to_datetime' method. Lastly I added another column to a data frame which shows the total price of all the stock by multiplying quantity by the price of a unit."
   ]
  },
  {
   "cell_type": "markdown",
   "id": "f9d909b1",
   "metadata": {},
   "source": [
    "## Data Analysis - Basic"
   ]
  },
  {
   "cell_type": "code",
   "execution_count": 24,
   "id": "32e4ac61",
   "metadata": {},
   "outputs": [
    {
     "name": "stdout",
     "output_type": "stream",
     "text": [
      "Number of unique customers: 4338\n",
      "Number of unique products: 3665\n",
      "Top 5 countries by number of transactions:\n",
      "Country\n",
      "United Kingdom    349203\n",
      "Germany             9025\n",
      "France              8326\n",
      "EIRE                7226\n",
      "Spain               2479\n",
      "Name: count, dtype: int64\n",
      "Total revenue: £8,887,208.89\n",
      "Top 5 products by total sales:\n",
      "Description\n",
      "PAPER CRAFT , LITTLE BIRDIE           168469.60\n",
      "REGENCY CAKESTAND 3 TIER              142264.75\n",
      "WHITE HANGING HEART T-LIGHT HOLDER    100392.10\n",
      "JUMBO BAG RED RETROSPOT                85040.54\n",
      "MEDIUM CERAMIC TOP STORAGE JAR         81416.73\n",
      "Name: TotalPrice, dtype: float64\n",
      "Revenue of Top 5 Countries: Country\n",
      "United Kingdom    7285024.644\n",
      "Netherlands        285446.340\n",
      "EIRE               265262.460\n",
      "Germany            228678.400\n",
      "France             208934.310\n",
      "Name: TotalPrice, dtype: float64\n"
     ]
    },
    {
     "name": "stderr",
     "output_type": "stream",
     "text": [
      "C:\\Users\\DDubr\\AppData\\Local\\Temp\\ipykernel_30080\\2708183367.py:20: FutureWarning: The default of observed=False is deprecated and will be changed to True in a future version of pandas. Pass observed=False to retain current behavior or observed=True to adopt the future default and silence this warning.\n",
      "  print(\"Revenue of Top 5 Countries:\", df.groupby('Country')['TotalPrice'].sum().sort_values(ascending=False).head(5))\n"
     ]
    }
   ],
   "source": [
    "num_customers = df['CustomerID'].nunique()\n",
    "print(f\"Number of unique customers: {num_customers}\")\n",
    "\n",
    "num_products = df['StockCode'].nunique()\n",
    "print(f\"Number of unique products: {num_products}\")\n",
    "\n",
    "\n",
    "top_countries = df['Country'].value_counts().head(5)\n",
    "print(\"Top 5 countries by number of transactions:\")\n",
    "print(top_countries)\n",
    "\n",
    "\n",
    "total_revenue = df['TotalPrice'].sum()\n",
    "print(f\"Total revenue: £{total_revenue:,.2f}\")\n",
    "\n",
    "top_products = df.groupby('Description')['TotalPrice'].sum().sort_values(ascending=False).head(5)\n",
    "print(\"Top 5 products by total sales:\")\n",
    "print(top_products)\n",
    "\n",
    "print(\"Revenue of Top 5 Countries:\", df.groupby('Country')['TotalPrice'].sum().sort_values(ascending=False).head(5))\n"
   ]
  },
  {
   "cell_type": "markdown",
   "id": "4d48bb92",
   "metadata": {},
   "source": [
    "## Monthly / Quarterly Sales Trends Anaylsis"
   ]
  },
  {
   "cell_type": "code",
   "execution_count": 25,
   "id": "6efcff4c",
   "metadata": {},
   "outputs": [
    {
     "data": {
      "image/png": "[encoded data removed]",
      "text/plain": [
       "<Figure size 1200x600 with 1 Axes>"
      ]
     },
     "metadata": {},
     "output_type": "display_data"
    }
   ],
   "source": [
    "monthly_sales = df.set_index('InvoiceDate').resample('ME')['TotalPrice'].sum()\n",
    "quarterly_sales = df.set_index('InvoiceDate').resample('QE')['TotalPrice'].sum()\n",
    "\n",
    "plt.figure(figsize=(12, 6))\n",
    "plt.plot(monthly_sales.index, monthly_sales.values, marker='o', label='Monthly Sales')\n",
    "plt.plot(quarterly_sales.index, quarterly_sales.values, marker='s', label='Quarterly Sales')\n",
    "plt.title('Monthly and Quarterly Sales Trends')\n",
    "plt.xlabel('Date')\n",
    "plt.ylabel('Total Sales (£)')\n",
    "plt.legend()\n",
    "\n",
    "# Fix the y-axis formatting\n",
    "plt.gca().yaxis.set_major_formatter(plt.FuncFormatter(lambda x, pos: f'£{x:,.0f}'))\n",
    "plt.grid(True, alpha=0.3)\n",
    "plt.show()"
   ]
  },
  {
   "cell_type": "markdown",
   "id": "448be18a",
   "metadata": {},
   "source": [
    "Since I type casted the \"InvoiceDate\" column into the \"datetime64\" data type, I was able to use the Resample function to categorize the data into monthly and quarterly divisions, then summing the \"TotalPrice\" Column that I was able to plot the data showing monthly and quarterly sales trend. We can see that the total sales jumped triple from 1st to 2nd quarter, then steadily rose. From the monthly sales trend we can see that the total sales is pretty consistent, starting to trend up near the end of the year towards the holidays then fall back to baseline."
   ]
  },
  {
   "cell_type": "markdown",
   "id": "58d2cce3",
   "metadata": {},
   "source": [
    "## Average Transaction Value and Revenue Distribution Analysis"
   ]
  },
  {
   "cell_type": "code",
   "execution_count": 26,
   "id": "b07093e9",
   "metadata": {},
   "outputs": [
    {
     "name": "stdout",
     "output_type": "stream",
     "text": [
      "Average transaction value: £479.56\n"
     ]
    },
    {
     "data": {
      "image/png": "[encoded data removed]",
      "text/plain": [
       "<Figure size 1000x600 with 1 Axes>"
      ]
     },
     "metadata": {},
     "output_type": "display_data"
    },
    {
     "name": "stdout",
     "output_type": "stream",
     "text": [
      "Original data range: £0.38 to £168,469.60\n",
      "Filtered range: £0.38 to £3,840.88\n"
     ]
    }
   ],
   "source": [
    "avg_transaction = df.groupby('InvoiceNo')['TotalPrice'].sum().mean()\n",
    "print(f\"Average transaction value: £{avg_transaction:,.2f}\")\n",
    "\n",
    "transaction_values = df.groupby('InvoiceNo')['TotalPrice'].sum()\n",
    "\n",
    "# Remove top 1% outliers to see the main distribution\n",
    "q99 = transaction_values.quantile(0.99)\n",
    "filtered_values = transaction_values[transaction_values <= q99]\n",
    "\n",
    "plt.figure(figsize=(10, 6))\n",
    "sns.histplot(filtered_values, bins=30, kde=True)\n",
    "plt.title('Distribution of Transaction Values (99th Percentile)')\n",
    "plt.xlabel('Transaction Value (£)')\n",
    "plt.ylabel('Frequency')\n",
    "plt.gca().xaxis.set_major_formatter(plt.FuncFormatter(lambda x, pos: f'£{x:,.0f}'))\n",
    "plt.grid(True, alpha=0.3)\n",
    "plt.show()\n",
    "\n",
    "print(f\"Original data range: £{transaction_values.min():,.2f} to £{transaction_values.max():,.2f}\")\n",
    "print(f\"Filtered range: £{filtered_values.min():,.2f} to £{filtered_values.max():,.2f}\")"
   ]
  },
  {
   "cell_type": "markdown",
   "id": "98b23623",
   "metadata": {},
   "source": [
    "In this section I created a variable to store the average transaction price across the entire dataset using the 'TotalPrice' Column. This as well as the graph of the distrubution of transaction values shows that most of the purchases made in UK E commerce were less than 1000 euro and the highest volume of purchases was within the 0-500 euro range. I used the 99th percentile to make the graph more readable as before it would show the top 1% of sales and it would cause the bars to be invisible and the graph to look extremely misleading."
   ]
  },
  {
   "cell_type": "markdown",
   "id": "941c7769",
   "metadata": {},
   "source": [
    "## Customer Behavior Analysis - 1"
   ]
  },
  {
   "cell_type": "code",
   "execution_count": null,
   "id": "6f77dcf2",
   "metadata": {},
   "outputs": [
    {
     "name": "stdout",
     "output_type": "stream",
     "text": [
      "Purchase Frequency Statistics:\n",
      " count    4338.000000\n",
      "mean        4.272015\n",
      "std         7.697998\n",
      "min         1.000000\n",
      "25%         1.000000\n",
      "50%         2.000000\n",
      "75%         5.000000\n",
      "max       209.000000\n",
      "Name: InvoiceNo, dtype: float64\n"
     ]
    },
    {
     "data": {
      "image/png": "[encoded data removed]",
      "text/plain": [
       "<Figure size 1200x400 with 1 Axes>"
      ]
     },
     "metadata": {},
     "output_type": "display_data"
    },
    {
     "name": "stdout",
     "output_type": "stream",
     "text": [
      "One-time buyers: 1493 (34.4%)\n",
      "Repeat buyers: 2845 (65.6%)\n"
     ]
    }
   ],
   "source": [
    "customer_frequency = df.groupby('CustomerID')['InvoiceNo'].nunique()\n",
    "print(\"Purchase Frequency Statistics:\\n\",customer_frequency.describe())\n",
    "plt.figure(figsize=(12, 4))\n",
    "\n",
    "\n",
    "one_time_buyers = (customer_frequency == 1).sum()\n",
    "repeat_buyers = (customer_frequency > 1).sum()\n",
    "plt.pie([one_time_buyers, repeat_buyers], \n",
    "        labels=['One-Time Buyers', 'Repeat Buyers'], \n",
    "        autopct='%1.1f%%', colors=['lightcoral', 'lightblue'])\n",
    "plt.title('Customer Loyalty Distribution')\n",
    "\n",
    "plt.tight_layout()\n",
    "plt.show()\n",
    "\n",
    "print(f\"One-time buyers: {one_time_buyers} ({one_time_buyers/len(customer_frequency)*100:.1f}%)\")\n",
    "print(f\"Repeat buyers: {repeat_buyers} ({repeat_buyers/len(customer_frequency)*100:.1f}%)\")\n",
    "\n"
   ]
  },
  {
   "cell_type": "markdown",
   "id": "e8f181fc",
   "metadata": {},
   "source": [
    "In this section of Customer Behavior Anaylsis I created a variable to track the frequency of purchase per customer. We can see that the average customer had 4 unique purchases. We can see that there is a max of 209, meaning one customer had 209 unqiue purchases through E Commerce. I created to more variables with conditions to track the amount of customers were one-off purchases compared to returning customers. I then used a pie chart to visualize this data and we can see that ~1/3 of the customers were one-time buyers while ~2/3 were loyal customers"
   ]
  },
  {
   "cell_type": "markdown",
   "id": "ed32e32c",
   "metadata": {},
   "source": []
  }
 ],
 "metadata": {
  "kernelspec": {
   "display_name": "venv (3.13.5)",
   "language": "python",
   "name": "python3"
  },
  "language_info": {
   "codemirror_mode": {
    "name": "ipython",
    "version": 3
   },
   "file_extension": ".py",
   "mimetype": "text/x-python",
   "name": "python",
   "nbconvert_exporter": "python",
   "pygments_lexer": "ipython3",
   "version": "3.13.5"
  }
 },
 "nbformat": 4,
 "nbformat_minor": 5
}
